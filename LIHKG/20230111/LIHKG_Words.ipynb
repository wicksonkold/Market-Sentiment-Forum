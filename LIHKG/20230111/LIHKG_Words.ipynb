{
 "cells": [
  {
   "cell_type": "code",
   "execution_count": 1,
   "id": "003bc6dc-86a4-448c-8ff2-54cd8764a3b6",
   "metadata": {},
   "outputs": [],
   "source": [
    "import pandas as pd\n",
    "import time\n",
    "from datetime import timedelta, date, datetime\n",
    "from dateutil.relativedelta import relativedelta\n",
    "\n",
    "import pycantonese\n",
    "from pycantonese.word_segmentation import Segmenter\n",
    "from collections import Counter"
   ]
  },
  {
   "cell_type": "code",
   "execution_count": 2,
   "id": "18eecb0f-9a69-44a5-a682-a4599a62e186",
   "metadata": {},
   "outputs": [],
   "source": [
    "try:\n",
    "    df_words = pd.read_excel('LIHKG_Segmented_Words.xlsx')\n",
    "    word_len_pointer = df_comment[\"Word UID (PK)\"].values.tolist()\n",
    "    word_len_pointer = len(word_len_counter) \n",
    "except:\n",
    "    df_words = pd.DataFrame(columns=[\"Word UID (PK)\",\n",
    "                                       \"Comment UID (FK)\",\n",
    "                                       \"Part of Speech Tagging\",\n",
    "                                       \"Word\",\n",
    "                                       \"Datetime (Comment)\"])\n",
    "    word_len_pointer = 0"
   ]
  },
  {
   "cell_type": "code",
   "execution_count": 3,
   "id": "1b285e0a-e126-4fcc-9a45-d8b72443837d",
   "metadata": {},
   "outputs": [],
   "source": [
    "#Get the comment context\n",
    "df_comment = pd.read_excel('LIHKG_Comment_Level.xlsx', index_col=None)\n",
    "comment_uid = df_comment[\"Comment UID\"].values.tolist()\n",
    "comment_context = df_comment[\"Comment Context\"].values.tolist()\n",
    "comment_datetime = df_comment[\"Comment Datetime\"].values.tolist()"
   ]
  },
  {
   "cell_type": "code",
   "execution_count": 4,
   "id": "b697ecff-5e7e-41db-b4e4-bf10424458ef",
   "metadata": {},
   "outputs": [],
   "source": [
    "#Get Customized Keyword For NLP Checks\n",
    "df_keywords = pd.read_excel('Keywords_NLP.xlsx', index_col=None)\n",
    "keywords = df_keywords[\"Keyword\"].values.tolist()\n",
    "\n",
    "#Set empty set to store keywords and used by the pycantonese\n",
    "keywords_set = set()\n",
    "for i in keywords:\n",
    "    keywords_set.add(i)"
   ]
  },
  {
   "cell_type": "code",
   "execution_count": 5,
   "id": "fd013b2d-ed0f-42fb-9f28-fc331ec5f90c",
   "metadata": {
    "scrolled": true,
    "tags": []
   },
   "outputs": [
    {
     "name": "stdout",
     "output_type": "stream",
     "text": [
      "Wall time: 1min 31s\n"
     ]
    }
   ],
   "source": [
    "%%time\n",
    "total_segmented_word = list()\n",
    "segmented_word = list()\n",
    "\n",
    "#use the customized word list for the nlp\n",
    "segmenter = Segmenter(allow= keywords_set,max_word_length=8)\n",
    "\n",
    "for idx, context in enumerate(comment_context):\n",
    "    new_comment_uid = comment_uid[idx]\n",
    "    new_comment_datetime = comment_datetime[idx]\n",
    "    \n",
    "    #segment the sentence\n",
    "    temp_result = pycantonese.segment(context, cls=segmenter)\n",
    "    temp_result = pycantonese.pos_tag(temp_result)\n",
    "\n",
    "    for word, pos in temp_result:\n",
    "        if pos == 'ADJ' or pos == 'NOUN' or pos == 'VERB':\n",
    "            df_words.loc[len(df_words)]= [word_len_pointer,\n",
    "                                          new_comment_uid,                                         \n",
    "                                          pos,\n",
    "                                          word,\n",
    "                                          new_comment_datetime]\n",
    "            word_len_pointer = word_len_pointer + 1"
   ]
  },
  {
   "cell_type": "code",
   "execution_count": 6,
   "id": "21645af7-5773-467d-b640-a6fc47e3d007",
   "metadata": {},
   "outputs": [
    {
     "data": {
      "text/html": [
       "<div>\n",
       "<style scoped>\n",
       "    .dataframe tbody tr th:only-of-type {\n",
       "        vertical-align: middle;\n",
       "    }\n",
       "\n",
       "    .dataframe tbody tr th {\n",
       "        vertical-align: top;\n",
       "    }\n",
       "\n",
       "    .dataframe thead th {\n",
       "        text-align: right;\n",
       "    }\n",
       "</style>\n",
       "<table border=\"1\" class=\"dataframe\">\n",
       "  <thead>\n",
       "    <tr style=\"text-align: right;\">\n",
       "      <th></th>\n",
       "      <th>Word UID (PK)</th>\n",
       "      <th>Comment UID (FK)</th>\n",
       "      <th>Part of Speech Tagging</th>\n",
       "      <th>Word</th>\n",
       "      <th>Datetime (Comment)</th>\n",
       "    </tr>\n",
       "  </thead>\n",
       "  <tbody>\n",
       "    <tr>\n",
       "      <th>0</th>\n",
       "      <td>0</td>\n",
       "      <td>LI-20230110-232042066087-瀧野由美仔-2023-1-5 22:38:...</td>\n",
       "      <td>ADJ</td>\n",
       "      <td>仲要</td>\n",
       "      <td>2023-1-5 22:38:13</td>\n",
       "    </tr>\n",
       "    <tr>\n",
       "      <th>1</th>\n",
       "      <td>1</td>\n",
       "      <td>LI-20230110-232042066087-瀧野由美仔-2023-1-5 22:38:...</td>\n",
       "      <td>NOUN</td>\n",
       "      <td>隻</td>\n",
       "      <td>2023-1-5 22:38:13</td>\n",
       "    </tr>\n",
       "    <tr>\n",
       "      <th>2</th>\n",
       "      <td>2</td>\n",
       "      <td>LI-20230110-232042066087-瀧野由美仔-2023-1-5 22:38:...</td>\n",
       "      <td>VERB</td>\n",
       "      <td>叫</td>\n",
       "      <td>2023-1-5 22:38:13</td>\n",
       "    </tr>\n",
       "    <tr>\n",
       "      <th>3</th>\n",
       "      <td>3</td>\n",
       "      <td>LI-20230110-232042066087-瀧野由美仔-2023-1-5 22:38:...</td>\n",
       "      <td>NOUN</td>\n",
       "      <td>鬼鼠</td>\n",
       "      <td>2023-1-5 22:38:13</td>\n",
       "    </tr>\n",
       "    <tr>\n",
       "      <th>4</th>\n",
       "      <td>4</td>\n",
       "      <td>LI-20230110-232042066087-瀧野由美仔-2023-1-5 22:38:...</td>\n",
       "      <td>NOUN</td>\n",
       "      <td>藍</td>\n",
       "      <td>2023-1-5 22:38:13</td>\n",
       "    </tr>\n",
       "    <tr>\n",
       "      <th>...</th>\n",
       "      <td>...</td>\n",
       "      <td>...</td>\n",
       "      <td>...</td>\n",
       "      <td>...</td>\n",
       "      <td>...</td>\n",
       "    </tr>\n",
       "    <tr>\n",
       "      <th>50601</th>\n",
       "      <td>50601</td>\n",
       "      <td>LI-20230110-233246137217-馬里蘭樂園田泰安-2022-12-29 2...</td>\n",
       "      <td>VERB</td>\n",
       "      <td>落</td>\n",
       "      <td>2022-12-29 21:08:22</td>\n",
       "    </tr>\n",
       "    <tr>\n",
       "      <th>50602</th>\n",
       "      <td>50602</td>\n",
       "      <td>LI-20230110-233246137217-馬里蘭樂園田泰安-2022-12-29 2...</td>\n",
       "      <td>VERB</td>\n",
       "      <td>反正</td>\n",
       "      <td>2022-12-30 00:07:15</td>\n",
       "    </tr>\n",
       "    <tr>\n",
       "      <th>50603</th>\n",
       "      <td>50603</td>\n",
       "      <td>LI-20230110-233246137217-馬里蘭樂園田泰安-2022-12-29 2...</td>\n",
       "      <td>NOUN</td>\n",
       "      <td>用慣</td>\n",
       "      <td>2022-12-30 00:07:15</td>\n",
       "    </tr>\n",
       "    <tr>\n",
       "      <th>50604</th>\n",
       "      <td>50604</td>\n",
       "      <td>LI-20230110-233246137217-馬里蘭樂園田泰安-2022-12-29 2...</td>\n",
       "      <td>VERB</td>\n",
       "      <td>覺</td>\n",
       "      <td>2022-12-30 00:07:15</td>\n",
       "    </tr>\n",
       "    <tr>\n",
       "      <th>50605</th>\n",
       "      <td>50605</td>\n",
       "      <td>LI-20230110-233246137217-馬里蘭樂園田泰安-2022-12-29 2...</td>\n",
       "      <td>NOUN</td>\n",
       "      <td>大問題</td>\n",
       "      <td>2022-12-30 00:07:15</td>\n",
       "    </tr>\n",
       "  </tbody>\n",
       "</table>\n",
       "<p>50606 rows × 5 columns</p>\n",
       "</div>"
      ],
      "text/plain": [
       "       Word UID (PK)                                   Comment UID (FK)  \\\n",
       "0                  0  LI-20230110-232042066087-瀧野由美仔-2023-1-5 22:38:...   \n",
       "1                  1  LI-20230110-232042066087-瀧野由美仔-2023-1-5 22:38:...   \n",
       "2                  2  LI-20230110-232042066087-瀧野由美仔-2023-1-5 22:38:...   \n",
       "3                  3  LI-20230110-232042066087-瀧野由美仔-2023-1-5 22:38:...   \n",
       "4                  4  LI-20230110-232042066087-瀧野由美仔-2023-1-5 22:38:...   \n",
       "...              ...                                                ...   \n",
       "50601          50601  LI-20230110-233246137217-馬里蘭樂園田泰安-2022-12-29 2...   \n",
       "50602          50602  LI-20230110-233246137217-馬里蘭樂園田泰安-2022-12-29 2...   \n",
       "50603          50603  LI-20230110-233246137217-馬里蘭樂園田泰安-2022-12-29 2...   \n",
       "50604          50604  LI-20230110-233246137217-馬里蘭樂園田泰安-2022-12-29 2...   \n",
       "50605          50605  LI-20230110-233246137217-馬里蘭樂園田泰安-2022-12-29 2...   \n",
       "\n",
       "      Part of Speech Tagging Word   Datetime (Comment)  \n",
       "0                        ADJ   仲要    2023-1-5 22:38:13  \n",
       "1                       NOUN    隻    2023-1-5 22:38:13  \n",
       "2                       VERB    叫    2023-1-5 22:38:13  \n",
       "3                       NOUN   鬼鼠    2023-1-5 22:38:13  \n",
       "4                       NOUN    藍    2023-1-5 22:38:13  \n",
       "...                      ...  ...                  ...  \n",
       "50601                   VERB    落  2022-12-29 21:08:22  \n",
       "50602                   VERB   反正  2022-12-30 00:07:15  \n",
       "50603                   NOUN   用慣  2022-12-30 00:07:15  \n",
       "50604                   VERB    覺  2022-12-30 00:07:15  \n",
       "50605                   NOUN  大問題  2022-12-30 00:07:15  \n",
       "\n",
       "[50606 rows x 5 columns]"
      ]
     },
     "execution_count": 6,
     "metadata": {},
     "output_type": "execute_result"
    }
   ],
   "source": [
    "df_words"
   ]
  },
  {
   "cell_type": "code",
   "execution_count": 9,
   "id": "dd88fbf1-b167-4338-9df1-e714ce6cafc8",
   "metadata": {},
   "outputs": [
    {
     "name": "stderr",
     "output_type": "stream",
     "text": [
      "C:\\Users\\User\\anaconda3\\lib\\site-packages\\pandas\\util\\_decorators.py:211: FutureWarning: the 'encoding' keyword is deprecated and will be removed in a future version. Please take steps to stop the use of 'encoding'\n",
      "  return func(*args, **kwargs)\n"
     ]
    }
   ],
   "source": [
    "#output\n",
    "df_words.to_excel('LIHKG_Segmented_Words.xlsx',encoding= 'utf-8-sig',index = None) \n"
   ]
  },
  {
   "cell_type": "code",
   "execution_count": 7,
   "id": "b9de55b4-c16d-4e7d-a463-0c7732a0d2e1",
   "metadata": {
    "scrolled": true,
    "tags": []
   },
   "outputs": [
    {
     "data": {
      "text/plain": [
       "'\\n#find most comment\\ncount = Counter(total_segmented_word)\\nnew_sorted_list = count.most_common()\\nfor i in new_sorted_list:\\n    print(i)\\n'"
      ]
     },
     "execution_count": 7,
     "metadata": {},
     "output_type": "execute_result"
    }
   ],
   "source": [
    "'''\n",
    "#find most comment\n",
    "count = Counter(total_segmented_word)\n",
    "new_sorted_list = count.most_common()\n",
    "for i in new_sorted_list:\n",
    "    print(i)\n",
    "'''"
   ]
  },
  {
   "cell_type": "markdown",
   "id": "f1c5bc8a-206e-4e26-85d7-84444c905377",
   "metadata": {},
   "source": [
    "Alphabetical listing\n",
    "\n",
    "ADJ: adjective\n",
    "ADP: adposition\n",
    "ADV: adverb\n",
    "AUX: auxiliary\n",
    "CCONJ: coordinating conjunction\n",
    "DET: determiner\n",
    "INTJ: interjection\n",
    "NOUN: noun\n",
    "NUM: numeral\n",
    "PART: particle\n",
    "PRON: pronoun\n",
    "PROPN: proper noun\n",
    "PUNCT: punctuation\n",
    "SCONJ: subordinating conjunction\n",
    "SYM: symbol\n",
    "VERB: verb\n",
    "X: other"
   ]
  }
 ],
 "metadata": {
  "kernelspec": {
   "display_name": "Python 3 (ipykernel)",
   "language": "python",
   "name": "python3"
  },
  "language_info": {
   "codemirror_mode": {
    "name": "ipython",
    "version": 3
   },
   "file_extension": ".py",
   "mimetype": "text/x-python",
   "name": "python",
   "nbconvert_exporter": "python",
   "pygments_lexer": "ipython3",
   "version": "3.9.7"
  }
 },
 "nbformat": 4,
 "nbformat_minor": 5
}
